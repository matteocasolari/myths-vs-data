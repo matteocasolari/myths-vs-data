{
 "cells": [
  {
   "cell_type": "code",
   "execution_count": 1,
   "id": "6b7363dd-44ac-4fd1-8d16-10c7cb1e880f",
   "metadata": {},
   "outputs": [],
   "source": [
    "import pandas as pd"
   ]
  },
  {
   "cell_type": "markdown",
   "id": "29953ac9-3c3e-4212-b9d5-138730ffe4e7",
   "metadata": {},
   "source": [
    "# Load the data"
   ]
  },
  {
   "cell_type": "code",
   "execution_count": 2,
   "id": "87dc323e-b4c8-4f9d-b81e-b8c21d0dd450",
   "metadata": {},
   "outputs": [],
   "source": [
    "df_apples = pd.read_csv(\"../data/raw/fruit-consumption-by-fruit-type.csv\")\n",
    "df_visits = pd.read_csv(\"../data/raw/doctor-visits.csv\")\n",
    "df_gdp = pd.read_csv(\"../data/raw/gdp-per-capita-worldbank.csv\")\n",
    "df_age = pd.read_csv(\"../data/raw/median-age.csv\")"
   ]
  },
  {
   "cell_type": "markdown",
   "id": "baf1ef47-a3c4-4e1f-869c-bb23d5a88db2",
   "metadata": {},
   "source": [
    "# Data Processing"
   ]
  },
  {
   "cell_type": "markdown",
   "id": "861e9f1b-edb1-45ab-8477-201d0e573130",
   "metadata": {},
   "source": [
    "## Doctors Visits"
   ]
  },
  {
   "cell_type": "code",
   "execution_count": 3,
   "id": "f37f7b61-ce10-48f9-b085-fdcae2198d3b",
   "metadata": {},
   "outputs": [
    {
     "name": "stdout",
     "output_type": "stream",
     "text": [
      "<class 'pandas.core.frame.DataFrame'>\n",
      "RangeIndex: 2652 entries, 0 to 2651\n",
      "Data columns (total 54 columns):\n",
      " #   Column                Non-Null Count  Dtype  \n",
      "---  ------                --------------  -----  \n",
      " 0   STRUCTURE             2652 non-null   object \n",
      " 1   STRUCTURE_ID          2652 non-null   object \n",
      " 2   STRUCTURE_NAME        2652 non-null   object \n",
      " 3   ACTION                2652 non-null   object \n",
      " 4   REF_AREA              2652 non-null   object \n",
      " 5   Reference area        2652 non-null   object \n",
      " 6   MEASURE               2652 non-null   object \n",
      " 7   Measure               2652 non-null   object \n",
      " 8   UNIT_MEASURE          2652 non-null   object \n",
      " 9   Unit of measure       2652 non-null   object \n",
      " 10  MEDICAL_PROCEDURE     2652 non-null   object \n",
      " 11  Medical procedure     2652 non-null   object \n",
      " 12  OCCUPATION            2652 non-null   object \n",
      " 13  Occupation            2652 non-null   object \n",
      " 14  DIAGNOSTIC_TYPE       2652 non-null   object \n",
      " 15  Diagnostic category   2652 non-null   object \n",
      " 16  PROVIDER              2652 non-null   object \n",
      " 17  Provider              2652 non-null   object \n",
      " 18  FUNCTION              2652 non-null   object \n",
      " 19  Healthcare function   2652 non-null   object \n",
      " 20  MODE_PROVISION        2652 non-null   object \n",
      " 21  Mode of provision     2652 non-null   object \n",
      " 22  CARE_TYPE             2652 non-null   object \n",
      " 23  Care type             2652 non-null   object \n",
      " 24  HEALTH_FACILITY       2652 non-null   object \n",
      " 25  Medical technology    2652 non-null   object \n",
      " 26  AGE                   2652 non-null   object \n",
      " 27  Age                   2652 non-null   object \n",
      " 28  SEX                   2652 non-null   object \n",
      " 29  Sex                   2652 non-null   object \n",
      " 30  DATA_SRCE             2652 non-null   object \n",
      " 31  Data source           2652 non-null   object \n",
      " 32  WAITING_TIME          2652 non-null   object \n",
      " 33  Waiting time          2652 non-null   object \n",
      " 34  DISEASE               2652 non-null   object \n",
      " 35  Disease               2652 non-null   object \n",
      " 36  CANCER_SITE           2652 non-null   object \n",
      " 37  Cancer site           2652 non-null   object \n",
      " 38  CONSULTATION_TYPE     2652 non-null   object \n",
      " 39  Consultation type     2652 non-null   object \n",
      " 40  TIME_PERIOD           2652 non-null   int64  \n",
      " 41  Time period           0 non-null      float64\n",
      " 42  OBS_VALUE             2652 non-null   float64\n",
      " 43  Observation value     0 non-null      float64\n",
      " 44  OBS_STATUS            422 non-null    object \n",
      " 45  Observation status    422 non-null    object \n",
      " 46  OBS_STATUS2           13 non-null     object \n",
      " 47  Observation status 2  13 non-null     object \n",
      " 48  OBS_STATUS3           0 non-null      float64\n",
      " 49  Observation status 3  0 non-null      float64\n",
      " 50  UNIT_MULT             0 non-null      float64\n",
      " 51  Unit multiplier       0 non-null      float64\n",
      " 52  DECIMALS              0 non-null      float64\n",
      " 53  Decimals              0 non-null      float64\n",
      "dtypes: float64(9), int64(1), object(44)\n",
      "memory usage: 1.1+ MB\n"
     ]
    }
   ],
   "source": [
    "# For visibility, display how the dataframe looks at the beginning\n",
    "df_visits.info()"
   ]
  },
  {
   "cell_type": "code",
   "execution_count": 4,
   "id": "4d4e741a-d3f9-4d32-a503-0d0f434e0953",
   "metadata": {},
   "outputs": [],
   "source": [
    "# Select only in person visits\n",
    "df_visits = df_visits[df_visits[\"Consultation type\"] == \"In-person\"]\n",
    "\n",
    "df_visits = df_visits.rename(\n",
    "    columns={\n",
    "        \"OBS_VALUE\": \"doctor_visits_per_capita\",\n",
    "        \"Reference area\": \"country\",\n",
    "        \"TIME_PERIOD\": \"year\",\n",
    "    }\n",
    ")"
   ]
  },
  {
   "cell_type": "code",
   "execution_count": 5,
   "id": "65b5e2d6-844b-4dc0-9179-2546c250c36a",
   "metadata": {},
   "outputs": [],
   "source": [
    "# Summing dentists and medical doctors (they both count as a visit)\n",
    "df_visits = df_visits.groupby([\"country\", \"year\"])[\"doctor_visits_per_capita\"].sum().reset_index()"
   ]
  },
  {
   "cell_type": "code",
   "execution_count": 6,
   "id": "58ee09d9-4b52-4680-98a9-c406012f2ac6",
   "metadata": {},
   "outputs": [],
   "source": [
    "# Rename some countries to ensure consistent and homogeneous naming.\n",
    "# Assumption: 'Korea' refers to 'South Korea' due to data unavailability for North Korea.\n",
    "df_visits[\"country\"] = df_visits[\"country\"].replace({\n",
    "    \"Korea\": \"South Korea\",\n",
    "    \"Slovak Republic\": \"Slovakia\",\n",
    "    \"Türkiye\": \"Turkey\"\n",
    "})"
   ]
  },
  {
   "cell_type": "code",
   "execution_count": 7,
   "id": "96283cdb-89e4-440d-bbf5-4d3d6a84b6af",
   "metadata": {},
   "outputs": [
    {
     "name": "stdout",
     "output_type": "stream",
     "text": [
      "<class 'pandas.core.frame.DataFrame'>\n",
      "RangeIndex: 1515 entries, 0 to 1514\n",
      "Data columns (total 3 columns):\n",
      " #   Column                    Non-Null Count  Dtype  \n",
      "---  ------                    --------------  -----  \n",
      " 0   country                   1515 non-null   object \n",
      " 1   year                      1515 non-null   int64  \n",
      " 2   doctor_visits_per_capita  1515 non-null   float64\n",
      "dtypes: float64(1), int64(1), object(1)\n",
      "memory usage: 35.6+ KB\n"
     ]
    }
   ],
   "source": [
    "# For visibility, display how the dataframe looks at the end\n",
    "df_visits.info()"
   ]
  },
  {
   "cell_type": "markdown",
   "id": "4be8fae4-d111-419c-8cbb-881626332f8c",
   "metadata": {},
   "source": [
    "## Apple Consumption"
   ]
  },
  {
   "cell_type": "code",
   "execution_count": 8,
   "id": "6f477743-2958-4b3f-9624-eed0d5ec3382",
   "metadata": {},
   "outputs": [
    {
     "name": "stdout",
     "output_type": "stream",
     "text": [
      "<class 'pandas.core.frame.DataFrame'>\n",
      "RangeIndex: 12592 entries, 0 to 12591\n",
      "Data columns (total 14 columns):\n",
      " #   Column                                                                                                                  Non-Null Count  Dtype  \n",
      "---  ------                                                                                                                  --------------  -----  \n",
      " 0   Entity                                                                                                                  12592 non-null  object \n",
      " 1   Code                                                                                                                    9973 non-null   object \n",
      " 2   Year                                                                                                                    12592 non-null  int64  \n",
      " 3   Dates | 00002619 || Food available for consumption | 0645pc || kilograms per year per capita                            11505 non-null  float64\n",
      " 4   Grapefruit | 00002613 || Food available for consumption | 0645pc || kilograms per year per capita                       11909 non-null  float64\n",
      " 5   Citrus, Other | 00002614 || Food available for consumption | 0645pc || kilograms per year per capita                    11549 non-null  float64\n",
      " 6   Lemons and limes | 00002612 || Food available for consumption | 0645pc || kilograms per year per capita                 11926 non-null  float64\n",
      " 7   Pineapples | 00002618 || Food available for consumption | 0645pc || kilograms per year per capita                       12315 non-null  float64\n",
      " 8   Plantains | 00002616 || Food available for consumption | 0645pc || kilograms per year per capita                        9155 non-null   float64\n",
      " 9   Grapes and products (excl wine) | 00002620 || Food available for consumption | 0645pc || kilograms per year per capita  12479 non-null  float64\n",
      " 10  Apples | 00002617 || Food available for consumption | 0645pc || kilograms per year per capita                           12592 non-null  float64\n",
      " 11  Bananas | 00002615 || Food available for consumption | 0645pc || kilograms per year per capita                          12257 non-null  float64\n",
      " 12  Oranges | 00002611 || Food available for consumption | 0645pc || kilograms per year per capita                          12539 non-null  float64\n",
      " 13  Fruits, other | 00002625 || Food available for consumption | 0645pc || kilograms per year per capita                    12592 non-null  float64\n",
      "dtypes: float64(11), int64(1), object(2)\n",
      "memory usage: 1.3+ MB\n"
     ]
    }
   ],
   "source": [
    "# For visibility, display how the dataframe looks at the beginning\n",
    "df_apples.info()"
   ]
  },
  {
   "cell_type": "code",
   "execution_count": 9,
   "id": "2e358d66-2b44-4b1c-b894-f866e001719a",
   "metadata": {},
   "outputs": [],
   "source": [
    "# Select only apples, that's what we are interested in\n",
    "df_apples = df_apples.rename(\n",
    "    columns={\n",
    "        \"Apples | 00002617 || Food available for consumption | 0645pc || kilograms per year per capita\": \n",
    "        \"apple_consumption_per_capita_kg\",\n",
    "        \"Entity\": \"country\",\n",
    "        \"Year\": \"year\",\n",
    "    }\n",
    ")[[\"apple_consumption_per_capita_kg\", \"country\", \"year\"]]"
   ]
  },
  {
   "cell_type": "code",
   "execution_count": 10,
   "id": "17b3695f-2e3a-44d7-bf6f-0ea85341d9e8",
   "metadata": {},
   "outputs": [
    {
     "name": "stdout",
     "output_type": "stream",
     "text": [
      "<class 'pandas.core.frame.DataFrame'>\n",
      "RangeIndex: 12592 entries, 0 to 12591\n",
      "Data columns (total 3 columns):\n",
      " #   Column                           Non-Null Count  Dtype  \n",
      "---  ------                           --------------  -----  \n",
      " 0   apple_consumption_per_capita_kg  12592 non-null  float64\n",
      " 1   country                          12592 non-null  object \n",
      " 2   year                             12592 non-null  int64  \n",
      "dtypes: float64(1), int64(1), object(1)\n",
      "memory usage: 295.3+ KB\n"
     ]
    }
   ],
   "source": [
    "# For visibility, display how the dataframe looks at the end\n",
    "df_apples.info()"
   ]
  },
  {
   "cell_type": "markdown",
   "id": "1c353738-7800-43e0-9d16-6a4503fadc55",
   "metadata": {},
   "source": [
    "## GDP"
   ]
  },
  {
   "cell_type": "code",
   "execution_count": 11,
   "id": "22c5f497-5b4c-4617-b5db-ab8dcb5716b7",
   "metadata": {},
   "outputs": [
    {
     "name": "stdout",
     "output_type": "stream",
     "text": [
      "<class 'pandas.core.frame.DataFrame'>\n",
      "RangeIndex: 6562 entries, 0 to 6561\n",
      "Data columns (total 4 columns):\n",
      " #   Column                                               Non-Null Count  Dtype  \n",
      "---  ------                                               --------------  -----  \n",
      " 0   Entity                                               6562 non-null   object \n",
      " 1   Code                                                 6133 non-null   object \n",
      " 2   Year                                                 6562 non-null   int64  \n",
      " 3   GDP per capita, PPP (constant 2017 international $)  6562 non-null   float64\n",
      "dtypes: float64(1), int64(1), object(2)\n",
      "memory usage: 205.2+ KB\n"
     ]
    }
   ],
   "source": [
    "# For visibility, display how the dataframe looks at the beginning\n",
    "df_gdp.info()"
   ]
  },
  {
   "cell_type": "code",
   "execution_count": 12,
   "id": "0a7367e1-648a-410c-9f8b-255644fba5b4",
   "metadata": {},
   "outputs": [],
   "source": [
    "# Renaming to have homogenous column names\n",
    "df_gdp = df_gdp.rename(\n",
    "    columns={\n",
    "        \"GDP per capita, PPP (constant 2017 international $)\": \n",
    "        \"gdp_per_capita\",\n",
    "        \"Entity\": \"country\",\n",
    "        \"Year\": \"year\",\n",
    "    }\n",
    ")[[\"gdp_per_capita\", \"country\", \"year\"]]"
   ]
  },
  {
   "cell_type": "code",
   "execution_count": 13,
   "id": "3827dd2b-1f99-40c1-a2d1-43c8c95ee3fc",
   "metadata": {},
   "outputs": [],
   "source": [
    "df_gdp[\"gdp_per_capita_k\"] = df_gdp[\"gdp_per_capita\"] / 1000\n",
    "df_gdp = df_gdp.drop(columns=\"gdp_per_capita\")"
   ]
  },
  {
   "cell_type": "code",
   "execution_count": 14,
   "id": "1e91a035-9c37-4cf2-9d07-205cedc19d2c",
   "metadata": {},
   "outputs": [
    {
     "name": "stdout",
     "output_type": "stream",
     "text": [
      "<class 'pandas.core.frame.DataFrame'>\n",
      "RangeIndex: 6562 entries, 0 to 6561\n",
      "Data columns (total 3 columns):\n",
      " #   Column            Non-Null Count  Dtype  \n",
      "---  ------            --------------  -----  \n",
      " 0   country           6562 non-null   object \n",
      " 1   year              6562 non-null   int64  \n",
      " 2   gdp_per_capita_k  6562 non-null   float64\n",
      "dtypes: float64(1), int64(1), object(1)\n",
      "memory usage: 153.9+ KB\n"
     ]
    }
   ],
   "source": [
    "# For visibility, display how the dataframe looks at the end\n",
    "df_gdp.info()"
   ]
  },
  {
   "cell_type": "markdown",
   "id": "ab9c1fe1-dd9a-4cf2-9b6a-fed51d9f6846",
   "metadata": {},
   "source": [
    "## Median Age"
   ]
  },
  {
   "cell_type": "code",
   "execution_count": 15,
   "id": "d023bf14-5fec-42db-8252-3454a12a5f76",
   "metadata": {},
   "outputs": [
    {
     "name": "stdout",
     "output_type": "stream",
     "text": [
      "<class 'pandas.core.frame.DataFrame'>\n",
      "RangeIndex: 38203 entries, 0 to 38202\n",
      "Data columns (total 5 columns):\n",
      " #   Column                                                 Non-Null Count  Dtype  \n",
      "---  ------                                                 --------------  -----  \n",
      " 0   Entity                                                 38203 non-null  object \n",
      " 1   Code                                                   35938 non-null  object \n",
      " 2   Year                                                   38203 non-null  int64  \n",
      " 3   Median age - Sex: all - Age: all - Variant: estimates  18722 non-null  float64\n",
      " 4   Median age - Sex: all - Age: all - Variant: medium     19481 non-null  float64\n",
      "dtypes: float64(2), int64(1), object(2)\n",
      "memory usage: 1.5+ MB\n"
     ]
    }
   ],
   "source": [
    "# For visibility, display how the dataframe looks at the beginning\n",
    "df_age.info()"
   ]
  },
  {
   "cell_type": "code",
   "execution_count": 16,
   "id": "f75da006-d7f2-4e75-990c-b0ccdac6281f",
   "metadata": {},
   "outputs": [],
   "source": [
    "# Renaming to have homogenous column names\n",
    "df_age = df_age.rename(\n",
    "    columns={\n",
    "        \"Median age - Sex: all - Age: all - Variant: estimates\": \n",
    "        \"median_age\",\n",
    "        \"Entity\": \"country\",\n",
    "        \"Year\": \"year\",\n",
    "    }\n",
    ")[[\"median_age\", \"country\", \"year\"]]"
   ]
  },
  {
   "cell_type": "code",
   "execution_count": 17,
   "id": "bd9670cf-1d87-43db-a7bc-cb4aa66489e6",
   "metadata": {},
   "outputs": [
    {
     "name": "stdout",
     "output_type": "stream",
     "text": [
      "<class 'pandas.core.frame.DataFrame'>\n",
      "RangeIndex: 38203 entries, 0 to 38202\n",
      "Data columns (total 3 columns):\n",
      " #   Column      Non-Null Count  Dtype  \n",
      "---  ------      --------------  -----  \n",
      " 0   median_age  18722 non-null  float64\n",
      " 1   country     38203 non-null  object \n",
      " 2   year        38203 non-null  int64  \n",
      "dtypes: float64(1), int64(1), object(1)\n",
      "memory usage: 895.5+ KB\n"
     ]
    }
   ],
   "source": [
    "# For visibility, display how the dataframe looks at the end\n",
    "df_age.info()"
   ]
  },
  {
   "cell_type": "markdown",
   "id": "66f7cf64-b0f3-4221-8c6d-a3264e275de5",
   "metadata": {},
   "source": [
    "# Save preprocessed data"
   ]
  },
  {
   "cell_type": "code",
   "execution_count": 18,
   "id": "a90615b2-e600-4e9c-ba58-2f1294d0275e",
   "metadata": {},
   "outputs": [],
   "source": [
    "df_apples.to_csv(\"../data/processed/apple-consumption.csv\", index=False)\n",
    "df_visits.to_csv(\"../data/processed/doctor-visits.csv\", index=False)\n",
    "df_gdp.to_csv(\"../data/processed/gdp.csv\", index=False)\n",
    "df_age.to_csv(\"../data/processed/median-age.csv\", index=False)"
   ]
  }
 ],
 "metadata": {
  "kernelspec": {
   "display_name": "Python 3 (ipykernel)",
   "language": "python",
   "name": "python3"
  },
  "language_info": {
   "codemirror_mode": {
    "name": "ipython",
    "version": 3
   },
   "file_extension": ".py",
   "mimetype": "text/x-python",
   "name": "python",
   "nbconvert_exporter": "python",
   "pygments_lexer": "ipython3",
   "version": "3.12.7"
  }
 },
 "nbformat": 4,
 "nbformat_minor": 5
}
